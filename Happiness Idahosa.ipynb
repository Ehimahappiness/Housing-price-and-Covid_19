{
 "cells": [
  {
   "cell_type": "markdown",
   "id": "3e4ad566-2293-4b15-a44f-2cb4d1be71b6",
   "metadata": {},
   "source": [
    "### Assessment One"
   ]
  },
  {
   "cell_type": "code",
   "execution_count": 8,
   "id": "b8a7cb6f-d0ec-4b2f-913e-4d2f23168aba",
   "metadata": {},
   "outputs": [],
   "source": [
    "import os\n",
    "import numpy as np\n",
    "import pandas as pd\n"
   ]
  },
  {
   "cell_type": "code",
   "execution_count": 10,
   "id": "af4cd024-da90-4a83-8804-f0164022455b",
   "metadata": {},
   "outputs": [
    {
     "name": "stdout",
     "output_type": "stream",
     "text": [
      "Requirement already satisfied: xlrd in c:\\users\\hp\\onedrive\\attachments\\python alt\\lib\\site-packages (2.0.1)\n"
     ]
    }
   ],
   "source": [
    "!pip install xlrd"
   ]
  },
  {
   "cell_type": "code",
   "execution_count": 13,
   "id": "11e6409c-9913-4a9c-b11a-fd9cd9718b43",
   "metadata": {},
   "outputs": [
    {
     "data": {
      "text/html": [
       "<div>\n",
       "<style scoped>\n",
       "    .dataframe tbody tr th:only-of-type {\n",
       "        vertical-align: middle;\n",
       "    }\n",
       "\n",
       "    .dataframe tbody tr th {\n",
       "        vertical-align: top;\n",
       "    }\n",
       "\n",
       "    .dataframe thead th {\n",
       "        text-align: right;\n",
       "    }\n",
       "</style>\n",
       "<table border=\"1\" class=\"dataframe\">\n",
       "  <thead>\n",
       "    <tr style=\"text-align: right;\">\n",
       "      <th></th>\n",
       "      <th>area_type</th>\n",
       "      <th>availability</th>\n",
       "      <th>location</th>\n",
       "      <th>size</th>\n",
       "      <th>society</th>\n",
       "      <th>total_sqft</th>\n",
       "      <th>bath</th>\n",
       "      <th>balcony</th>\n",
       "      <th>price</th>\n",
       "    </tr>\n",
       "  </thead>\n",
       "  <tbody>\n",
       "    <tr>\n",
       "      <th>0</th>\n",
       "      <td>Super built-up  Area</td>\n",
       "      <td>19-Dec</td>\n",
       "      <td>Electronic City Phase II</td>\n",
       "      <td>2 BHK</td>\n",
       "      <td>Coomee</td>\n",
       "      <td>1056</td>\n",
       "      <td>2.0</td>\n",
       "      <td>1.0</td>\n",
       "      <td>39.07</td>\n",
       "    </tr>\n",
       "    <tr>\n",
       "      <th>1</th>\n",
       "      <td>Plot  Area</td>\n",
       "      <td>Ready To Move</td>\n",
       "      <td>Chikka Tirupathi</td>\n",
       "      <td>4 Bedroom</td>\n",
       "      <td>Theanmp</td>\n",
       "      <td>2600</td>\n",
       "      <td>5.0</td>\n",
       "      <td>3.0</td>\n",
       "      <td>120.00</td>\n",
       "    </tr>\n",
       "    <tr>\n",
       "      <th>2</th>\n",
       "      <td>Built-up  Area</td>\n",
       "      <td>Ready To Move</td>\n",
       "      <td>Uttarahalli</td>\n",
       "      <td>3 BHK</td>\n",
       "      <td>NaN</td>\n",
       "      <td>1440</td>\n",
       "      <td>2.0</td>\n",
       "      <td>3.0</td>\n",
       "      <td>62.00</td>\n",
       "    </tr>\n",
       "    <tr>\n",
       "      <th>3</th>\n",
       "      <td>Super built-up  Area</td>\n",
       "      <td>Ready To Move</td>\n",
       "      <td>Lingadheeranahalli</td>\n",
       "      <td>3 BHK</td>\n",
       "      <td>Soiewre</td>\n",
       "      <td>1521</td>\n",
       "      <td>3.0</td>\n",
       "      <td>1.0</td>\n",
       "      <td>95.00</td>\n",
       "    </tr>\n",
       "    <tr>\n",
       "      <th>4</th>\n",
       "      <td>Super built-up  Area</td>\n",
       "      <td>Ready To Move</td>\n",
       "      <td>Kothanur</td>\n",
       "      <td>2 BHK</td>\n",
       "      <td>NaN</td>\n",
       "      <td>1200</td>\n",
       "      <td>2.0</td>\n",
       "      <td>1.0</td>\n",
       "      <td>51.00</td>\n",
       "    </tr>\n",
       "  </tbody>\n",
       "</table>\n",
       "</div>"
      ],
      "text/plain": [
       "              area_type   availability                  location       size  \\\n",
       "0  Super built-up  Area         19-Dec  Electronic City Phase II      2 BHK   \n",
       "1            Plot  Area  Ready To Move          Chikka Tirupathi  4 Bedroom   \n",
       "2        Built-up  Area  Ready To Move               Uttarahalli      3 BHK   \n",
       "3  Super built-up  Area  Ready To Move        Lingadheeranahalli      3 BHK   \n",
       "4  Super built-up  Area  Ready To Move                  Kothanur      2 BHK   \n",
       "\n",
       "   society total_sqft  bath  balcony   price  \n",
       "0  Coomee        1056   2.0      1.0   39.07  \n",
       "1  Theanmp       2600   5.0      3.0  120.00  \n",
       "2      NaN       1440   2.0      3.0   62.00  \n",
       "3  Soiewre       1521   3.0      1.0   95.00  \n",
       "4      NaN       1200   2.0      1.0   51.00  "
      ]
     },
     "execution_count": 13,
     "metadata": {},
     "output_type": "execute_result"
    }
   ],
   "source": [
    "df = pd.read_csv('house_prices.csv')\n",
    "df.head()"
   ]
  },
  {
   "cell_type": "code",
   "execution_count": 12,
   "id": "4afd81d0-3ee3-42ca-9820-a4bc1354c529",
   "metadata": {},
   "outputs": [
    {
     "name": "stdout",
     "output_type": "stream",
     "text": [
      "<class 'pandas.core.frame.DataFrame'>\n",
      "RangeIndex: 13320 entries, 0 to 13319\n",
      "Data columns (total 9 columns):\n",
      " #   Column        Non-Null Count  Dtype  \n",
      "---  ------        --------------  -----  \n",
      " 0   area_type     13320 non-null  object \n",
      " 1   availability  13320 non-null  object \n",
      " 2   location      13319 non-null  object \n",
      " 3   size          13304 non-null  object \n",
      " 4   society       7818 non-null   object \n",
      " 5   total_sqft    13320 non-null  object \n",
      " 6   bath          13247 non-null  float64\n",
      " 7   balcony       12711 non-null  float64\n",
      " 8   price         13320 non-null  float64\n",
      "dtypes: float64(3), object(6)\n",
      "memory usage: 936.7+ KB\n"
     ]
    },
    {
     "data": {
      "text/plain": [
       "(None,\n",
       "               area_type   availability                  location       size  \\\n",
       " 0  Super built-up  Area         19-Dec  Electronic City Phase II      2 BHK   \n",
       " 1            Plot  Area  Ready To Move          Chikka Tirupathi  4 Bedroom   \n",
       " 2        Built-up  Area  Ready To Move               Uttarahalli      3 BHK   \n",
       " 3  Super built-up  Area  Ready To Move        Lingadheeranahalli      3 BHK   \n",
       " 4  Super built-up  Area  Ready To Move                  Kothanur      2 BHK   \n",
       " \n",
       "    society total_sqft  bath  balcony   price  \n",
       " 0  Coomee        1056   2.0      1.0   39.07  \n",
       " 1  Theanmp       2600   5.0      3.0  120.00  \n",
       " 2      NaN       1440   2.0      3.0   62.00  \n",
       " 3  Soiewre       1521   3.0      1.0   95.00  \n",
       " 4      NaN       1200   2.0      1.0   51.00  )"
      ]
     },
     "execution_count": 12,
     "metadata": {},
     "output_type": "execute_result"
    }
   ],
   "source": [
    "# Read the dataset\n",
    "df_info = df.info()\n",
    "df_head = df.head()\n",
    "df_info, df_head\n"
   ]
  },
  {
   "cell_type": "code",
   "execution_count": 18,
   "id": "9d5a23b8-15ed-49cb-9052-c9df5ab4b374",
   "metadata": {},
   "outputs": [
    {
     "name": "stdout",
     "output_type": "stream",
     "text": [
      "<class 'pandas.core.frame.DataFrame'>\n",
      "RangeIndex: 13320 entries, 0 to 13319\n",
      "Data columns (total 9 columns):\n",
      " #   Column        Non-Null Count  Dtype  \n",
      "---  ------        --------------  -----  \n",
      " 0   area_type     13320 non-null  object \n",
      " 1   availability  13320 non-null  object \n",
      " 2   location      13319 non-null  object \n",
      " 3   size          13304 non-null  object \n",
      " 4   society       7818 non-null   object \n",
      " 5   total_sqft    13320 non-null  object \n",
      " 6   bath          13247 non-null  float64\n",
      " 7   balcony       12711 non-null  float64\n",
      " 8   price         13320 non-null  float64\n",
      "dtypes: float64(3), object(6)\n",
      "memory usage: 936.7+ KB\n"
     ]
    }
   ],
   "source": [
    "df.info()"
   ]
  },
  {
   "cell_type": "code",
   "execution_count": 20,
   "id": "22e70b41-42f0-4408-aace-5e96b007cf7e",
   "metadata": {},
   "outputs": [
    {
     "data": {
      "text/plain": [
       "(13320, 9)"
      ]
     },
     "execution_count": 20,
     "metadata": {},
     "output_type": "execute_result"
    }
   ],
   "source": [
    "df.shape"
   ]
  },
  {
   "cell_type": "code",
   "execution_count": 32,
   "id": "fd93568c-ac8a-4e49-8ced-cc50c1c9f645",
   "metadata": {},
   "outputs": [
    {
     "data": {
      "text/plain": [
       "area_type          0\n",
       "availability       0\n",
       "location           1\n",
       "size              16\n",
       "society         5502\n",
       "total_sqft         0\n",
       "bath              73\n",
       "balcony          609\n",
       "price              0\n",
       "dtype: int64"
      ]
     },
     "execution_count": 32,
     "metadata": {},
     "output_type": "execute_result"
    }
   ],
   "source": [
    "# Inspect the dataset to check for missing values\n",
    "missing_info = df.isnull().sum()\n",
    "missing_info"
   ]
  },
  {
   "cell_type": "code",
   "execution_count": 36,
   "id": "a69ebc39-f2df-4b40-ae21-cb984094e4eb",
   "metadata": {},
   "outputs": [
    {
     "data": {
      "text/html": [
       "<div>\n",
       "<style scoped>\n",
       "    .dataframe tbody tr th:only-of-type {\n",
       "        vertical-align: middle;\n",
       "    }\n",
       "\n",
       "    .dataframe tbody tr th {\n",
       "        vertical-align: top;\n",
       "    }\n",
       "\n",
       "    .dataframe thead th {\n",
       "        text-align: right;\n",
       "    }\n",
       "</style>\n",
       "<table border=\"1\" class=\"dataframe\">\n",
       "  <thead>\n",
       "    <tr style=\"text-align: right;\">\n",
       "      <th></th>\n",
       "      <th>Missing Values</th>\n",
       "      <th>Percentage (%)</th>\n",
       "    </tr>\n",
       "  </thead>\n",
       "  <tbody>\n",
       "    <tr>\n",
       "      <th>society</th>\n",
       "      <td>5502</td>\n",
       "      <td>41.306306</td>\n",
       "    </tr>\n",
       "    <tr>\n",
       "      <th>balcony</th>\n",
       "      <td>609</td>\n",
       "      <td>4.572072</td>\n",
       "    </tr>\n",
       "    <tr>\n",
       "      <th>bath</th>\n",
       "      <td>73</td>\n",
       "      <td>0.548048</td>\n",
       "    </tr>\n",
       "    <tr>\n",
       "      <th>size</th>\n",
       "      <td>16</td>\n",
       "      <td>0.120120</td>\n",
       "    </tr>\n",
       "    <tr>\n",
       "      <th>location</th>\n",
       "      <td>1</td>\n",
       "      <td>0.007508</td>\n",
       "    </tr>\n",
       "  </tbody>\n",
       "</table>\n",
       "</div>"
      ],
      "text/plain": [
       "          Missing Values  Percentage (%)\n",
       "society             5502       41.306306\n",
       "balcony              609        4.572072\n",
       "bath                  73        0.548048\n",
       "size                  16        0.120120\n",
       "location               1        0.007508"
      ]
     },
     "execution_count": 36,
     "metadata": {},
     "output_type": "execute_result"
    }
   ],
   "source": [
    "# Display basic info and missing value summary\n",
    "\n",
    "missing_info = df.isnull().sum()\n",
    "missing_percentage = (missing_info / len(df)) * 100\n",
    "missing_data = pd.DataFrame({\n",
    "    'Missing Values': missing_info,\n",
    "    'Percentage (%)': missing_percentage\n",
    "})\n",
    "missing_data = missing_data[missing_data['Missing Values'] > 0].sort_values(by='Percentage (%)', ascending=False)\n",
    "missing_data.head(15)  # Show top 15 features with missing values"
   ]
  },
  {
   "cell_type": "markdown",
   "id": "e5ef9633-008f-4ac5-861c-cf44403a3283",
   "metadata": {},
   "source": [
    "### Data Column Category"
   ]
  },
  {
   "cell_type": "markdown",
   "id": "751c1744-be42-4f42-86d5-ac96c3d3f58a",
   "metadata": {},
   "source": [
    " Column   | Missing % | Classification                        | Reasoning |\n",
    "|----------|-----------|----------------------------------------|-----------|\n",
    "| society  | 41.31%    | Missing Not at Random (MNAR)          | The missing values in the society column could be due to properties that are not \n",
    "                                                                 part of any society or are in less developed areas, which may not be reported \n",
    "                                                                (e.g., underdeveloped areas, informal settlements). |\n",
    "| balcony  | 4.57%     | Missing at Random (MAR)               | The absence of balcony information may correlate with the type of property or its \n",
    "                                                                  price range. like house size, location or total_sqft. |\n",
    "| bath     | 0.55%     | Missing at Random (MAR)               | The missing might depend on the type of property or its size., number of rooms.|\n",
    "| size     | 0.12%     | Missing at Random (MAR)               | The missing size could be influenced by other factors such as the type of area or \n",
    "                                                                 society. |\n",
    "| location | 0.01%     | Missing at Random (MAR)              | The missing value could be related to other observed variables (e.g. properties \n",
    "                                                                  without a specified location might be less desirable or in less popular areas). |\n",
    "\n",
    "    Summary of Missing Values:\n",
    "\n",
    "    MCAR: None identified\n",
    "\n",
    "    MAR: Location, size, bath, balcony (correlated with other features)\n",
    "\n",
    "    MNAR: Society (intentionally withheld or context-based)\n"
   ]
  },
  {
   "cell_type": "markdown",
   "id": "aa00ec60-ecc8-4b4d-acb7-9a5593a3f622",
   "metadata": {},
   "source": [
    "## Assessment Two\n",
    "\n",
    "### Data Aggregation and Grouping"
   ]
  },
  {
   "cell_type": "code",
   "execution_count": 88,
   "id": "864040b3-8766-47ac-a785-725a557a1181",
   "metadata": {},
   "outputs": [
    {
     "data": {
      "text/html": [
       "<div>\n",
       "<style scoped>\n",
       "    .dataframe tbody tr th:only-of-type {\n",
       "        vertical-align: middle;\n",
       "    }\n",
       "\n",
       "    .dataframe tbody tr th {\n",
       "        vertical-align: top;\n",
       "    }\n",
       "\n",
       "    .dataframe thead th {\n",
       "        text-align: right;\n",
       "    }\n",
       "</style>\n",
       "<table border=\"1\" class=\"dataframe\">\n",
       "  <thead>\n",
       "    <tr style=\"text-align: right;\">\n",
       "      <th></th>\n",
       "      <th>date</th>\n",
       "      <th>county</th>\n",
       "      <th>state</th>\n",
       "      <th>fips</th>\n",
       "      <th>cases</th>\n",
       "      <th>deaths</th>\n",
       "    </tr>\n",
       "  </thead>\n",
       "  <tbody>\n",
       "    <tr>\n",
       "      <th>0</th>\n",
       "      <td>2020-01-21</td>\n",
       "      <td>Snohomish</td>\n",
       "      <td>Washington</td>\n",
       "      <td>53061.0</td>\n",
       "      <td>1</td>\n",
       "      <td>0.0</td>\n",
       "    </tr>\n",
       "    <tr>\n",
       "      <th>1</th>\n",
       "      <td>2020-01-22</td>\n",
       "      <td>Snohomish</td>\n",
       "      <td>Washington</td>\n",
       "      <td>53061.0</td>\n",
       "      <td>1</td>\n",
       "      <td>0.0</td>\n",
       "    </tr>\n",
       "    <tr>\n",
       "      <th>2</th>\n",
       "      <td>2020-01-23</td>\n",
       "      <td>Snohomish</td>\n",
       "      <td>Washington</td>\n",
       "      <td>53061.0</td>\n",
       "      <td>1</td>\n",
       "      <td>0.0</td>\n",
       "    </tr>\n",
       "    <tr>\n",
       "      <th>3</th>\n",
       "      <td>2020-01-24</td>\n",
       "      <td>Cook</td>\n",
       "      <td>Illinois</td>\n",
       "      <td>17031.0</td>\n",
       "      <td>1</td>\n",
       "      <td>0.0</td>\n",
       "    </tr>\n",
       "    <tr>\n",
       "      <th>4</th>\n",
       "      <td>2020-01-24</td>\n",
       "      <td>Snohomish</td>\n",
       "      <td>Washington</td>\n",
       "      <td>53061.0</td>\n",
       "      <td>1</td>\n",
       "      <td>0.0</td>\n",
       "    </tr>\n",
       "  </tbody>\n",
       "</table>\n",
       "</div>"
      ],
      "text/plain": [
       "         date     county       state     fips  cases  deaths\n",
       "0  2020-01-21  Snohomish  Washington  53061.0      1     0.0\n",
       "1  2020-01-22  Snohomish  Washington  53061.0      1     0.0\n",
       "2  2020-01-23  Snohomish  Washington  53061.0      1     0.0\n",
       "3  2020-01-24       Cook    Illinois  17031.0      1     0.0\n",
       "4  2020-01-24  Snohomish  Washington  53061.0      1     0.0"
      ]
     },
     "execution_count": 88,
     "metadata": {},
     "output_type": "execute_result"
    }
   ],
   "source": [
    "df = pd.read_csv('us-counties-2020.csv')\n",
    "df.head()"
   ]
  },
  {
   "cell_type": "code",
   "execution_count": 102,
   "id": "65be7ca2-4e02-4a7b-ab97-49f6912a3c28",
   "metadata": {},
   "outputs": [
    {
     "data": {
      "text/html": [
       "<div>\n",
       "<style scoped>\n",
       "    .dataframe tbody tr th:only-of-type {\n",
       "        vertical-align: middle;\n",
       "    }\n",
       "\n",
       "    .dataframe tbody tr th {\n",
       "        vertical-align: top;\n",
       "    }\n",
       "\n",
       "    .dataframe thead th {\n",
       "        text-align: right;\n",
       "    }\n",
       "</style>\n",
       "<table border=\"1\" class=\"dataframe\">\n",
       "  <thead>\n",
       "    <tr style=\"text-align: right;\">\n",
       "      <th></th>\n",
       "      <th>state</th>\n",
       "      <th>avg_cases</th>\n",
       "    </tr>\n",
       "  </thead>\n",
       "  <tbody>\n",
       "    <tr>\n",
       "      <th>0</th>\n",
       "      <td>Alabama</td>\n",
       "      <td>1701.467328</td>\n",
       "    </tr>\n",
       "    <tr>\n",
       "      <th>1</th>\n",
       "      <td>Alaska</td>\n",
       "      <td>430.746604</td>\n",
       "    </tr>\n",
       "    <tr>\n",
       "      <th>2</th>\n",
       "      <td>Arizona</td>\n",
       "      <td>10717.680837</td>\n",
       "    </tr>\n",
       "    <tr>\n",
       "      <th>3</th>\n",
       "      <td>Arkansas</td>\n",
       "      <td>868.880665</td>\n",
       "    </tr>\n",
       "    <tr>\n",
       "      <th>4</th>\n",
       "      <td>California</td>\n",
       "      <td>10414.212011</td>\n",
       "    </tr>\n",
       "  </tbody>\n",
       "</table>\n",
       "</div>"
      ],
      "text/plain": [
       "        state     avg_cases\n",
       "0     Alabama   1701.467328\n",
       "1      Alaska    430.746604\n",
       "2     Arizona  10717.680837\n",
       "3    Arkansas    868.880665\n",
       "4  California  10414.212011"
      ]
     },
     "execution_count": 102,
     "metadata": {},
     "output_type": "execute_result"
    }
   ],
   "source": [
    "# Summary of the average number of COVID cases by state.\n",
    "avg_cases_by_state = df.groupby('state')['cases'].mean().reset_index().rename(columns={'cases': 'avg_cases'})\n",
    "avg_cases_by_state.head()"
   ]
  },
  {
   "cell_type": "markdown",
   "id": "83d3c3d0-aa39-4c54-9d33-604aa87396c3",
   "metadata": {},
   "source": [
    "## Summary of the Summarization.\n",
    "\n",
    "I aggregated the data by state and calculated the average number of cases per state. Here are the key findings California as the highest \n",
    "#average cases due to early outbreaks in counties like Santa Clara, Los Angeles, and San Francisco. Other States like Texas, Massachusetts, \n",
    "and New Jersey also reported notable averages, though lower than the top states. Many states had sporadic cases, often linked to travel or localized \n",
    "outbreaks."
   ]
  },
  {
   "cell_type": "markdown",
   "id": "fb8ba795-3c53-4138-8fe7-a841f7a5bb49",
   "metadata": {},
   "source": [
    "## Assessment Three \n",
    "\n",
    "### Time Series Analysis"
   ]
  },
  {
   "cell_type": "code",
   "execution_count": 175,
   "id": "c33becb1-aec4-4c57-82d1-99bf90fdc449",
   "metadata": {},
   "outputs": [
    {
     "name": "stderr",
     "output_type": "stream",
     "text": [
      "Matplotlib is building the font cache; this may take a moment.\n"
     ]
    }
   ],
   "source": [
    "# importing necessary libraries\n",
    "import warnings\n",
    "warnings.filterwarnings('ignore')\n",
    "import matplotlib.pyplot as plt\n"
   ]
  },
  {
   "cell_type": "code",
   "execution_count": 176,
   "id": "ecacdf28-62bd-4c27-94e1-0d85af490453",
   "metadata": {},
   "outputs": [],
   "source": [
    "df = pd.read_csv('us-counties-2020.csv')"
   ]
  },
  {
   "cell_type": "code",
   "execution_count": 177,
   "id": "a8883de4-81b9-408f-a782-0be1fb3da37e",
   "metadata": {},
   "outputs": [],
   "source": [
    "# Convert date column to datetime\n",
    "\n",
    "df['date'] = pd.to_datetime(df['date']) \n"
   ]
  },
  {
   "cell_type": "code",
   "execution_count": 184,
   "id": "ec6b01f5-7c04-4179-aad9-e5c2c9e5cf24",
   "metadata": {},
   "outputs": [],
   "source": [
    "# Get the latest date in the dataset\n",
    "\n",
    "latest_date = df['date'].max()"
   ]
  },
  {
   "cell_type": "code",
   "execution_count": 186,
   "id": "04470d3e-d31a-4f2a-8238-0e0685f3eddf",
   "metadata": {},
   "outputs": [],
   "source": [
    "# Filter for California\n",
    "# Use California as a case study for visualization\n",
    "\n",
    "california_df = df[df['state'] == 'California']"
   ]
  },
  {
   "cell_type": "code",
   "execution_count": 188,
   "id": "a0a02dee-8ef3-4f9b-a5fb-21da3e3e3e90",
   "metadata": {},
   "outputs": [],
   "source": [
    "# Group by month and calculate new cases using California (not cumulative)\n",
    "\n",
    "monthly_cases = (\n",
    "    california_df\n",
    "    .groupby(pd.Grouper(key='date', freq='M'))['cases']\n",
    "    .sum()\n",
    "    .diff()  # Compute new cases by subtracting previous month\n",
    "    .fillna(0)\n",
    ")"
   ]
  },
  {
   "cell_type": "code",
   "execution_count": 190,
   "id": "87f02c6e-6c1f-45ca-97e2-e890b43ad517",
   "metadata": {},
   "outputs": [
    {
     "data": {
      "image/png": "[encoded data removed]",
      "text/plain": [
       "<Figure size 1200x600 with 1 Axes>"
      ]
     },
     "metadata": {},
     "output_type": "display_data"
    }
   ],
   "source": [
    "# Plot the monthly new cases\n",
    "plt.figure(figsize=(12, 6))\n",
    "monthly_cases.plot(kind='bar', color='blue')\n",
    "plt.title('Monthly COVID-19 Cases in California (2020)')\n",
    "plt.xlabel('Month')\n",
    "plt.ylabel('Number of New Cases')\n",
    "plt.xticks(rotation=45)\n",
    "plt.grid(axis='y', linestyle='--', alpha=0.7)\n",
    "plt.tight_layout()\n",
    "plt.show()"
   ]
  },
  {
   "cell_type": "code",
   "execution_count": 193,
   "id": "a80d86a2-b886-45dc-82ad-3908bf3025db",
   "metadata": {},
   "outputs": [],
   "source": [
    "# Filter for Texas\n",
    "Texas_df = df[df['state'] == 'Texas']"
   ]
  },
  {
   "cell_type": "code",
   "execution_count": 196,
   "id": "463a2db6-4697-4530-9d87-3491a4a92f74",
   "metadata": {},
   "outputs": [],
   "source": [
    "# Group by month and calculate new cases\n",
    "monthly_cases = (\n",
    "    Texas_df\n",
    "    .groupby(pd.Grouper(key='date', freq='M'))['cases']\n",
    "    .sum()\n",
    "    .diff()\n",
    "    .fillna(0)\n",
    ")"
   ]
  },
  {
   "cell_type": "code",
   "execution_count": 199,
   "id": "735b893d-2a4e-4705-9631-2f41c7758482",
   "metadata": {},
   "outputs": [
    {
     "data": {
      "image/png": "[encoded data removed]",
      "text/plain": [
       "<Figure size 1200x600 with 1 Axes>"
      ]
     },
     "metadata": {},
     "output_type": "display_data"
    }
   ],
   "source": [
    "# Plot the monthly new cases\n",
    "\n",
    "plt.figure(figsize=(12, 6))\n",
    "monthly_cases.plot(kind='bar', color='cornflowerblue')\n",
    "plt.title(\"Monthly COVID-19 Cases in Texas (2020)\")\n",
    "plt.xlabel(\"Month\")\n",
    "plt.ylabel(\"New Cases\")\n",
    "plt.xticks(rotation=45)\n",
    "plt.grid(axis='y', linestyle='--', alpha=0.7)\n",
    "plt.tight_layout()\n",
    "plt.show()"
   ]
  },
  {
   "cell_type": "code",
   "execution_count": null,
   "id": "77afd72b-1496-43e7-84c5-c31f6c4f405b",
   "metadata": {},
   "outputs": [],
   "source": []
  }
 ],
 "metadata": {
  "kernelspec": {
   "display_name": "Python 3 (ipykernel)",
   "language": "python",
   "name": "python3"
  },
  "language_info": {
   "codemirror_mode": {
    "name": "ipython",
    "version": 3
   },
   "file_extension": ".py",
   "mimetype": "text/x-python",
   "name": "python",
   "nbconvert_exporter": "python",
   "pygments_lexer": "ipython3",
   "version": "3.12.7"
  }
 },
 "nbformat": 4,
 "nbformat_minor": 5
}
